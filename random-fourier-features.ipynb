{
 "cells": [
  {
   "cell_type": "code",
   "execution_count": 2,
   "metadata": {
    "nbpresent": {
     "id": "b49df5ed-158d-419c-a5e2-e63960e6915c"
    }
   },
   "outputs": [],
   "source": [
    "import numpy as np\n",
    "import matplotlib.pyplot as plt"
   ]
  },
  {
   "cell_type": "markdown",
   "metadata": {
    "nbpresent": {
     "id": "419c1ce0-b87b-401e-9e9e-7c1c617c5fc0"
    }
   },
   "source": [
    "## Notebook Summary\n",
    "\n",
    "This notebook summarises and implements the paper: Rahimi, A., & Recht, B. (2008). Random features for large-scale kernel machines. In Advances in neural information processing systems (pp. 1177-1184). Important points are pulled directly from the paper and not necessarily reworded.\n",
    "\n",
    "## Introduction\n",
    "\n",
    "Kernel machines are attractive because they can approximate any function or decision boundary arbitrarily well with enough training data. However, methods that operate on the kernel matrix (gram matrix) of the data scale poorly with the size of the training dataset.\n",
    "\n",
    "One can take advantage of the speed of linear training algorithms for training nonlinear machines by approximately factoring the kernel matrix and treating the columns of the factor matrix as features in a linear machine. Random fourier features is a factorisation of the kernel function itself, which does not depend on the data. It allows for the conversion of the training and evaluation of the kernel machine into the corresponding operations of a linear machine by mappng data into a relatively low-dimensional randomised feature space. \n",
    "\n",
    "The kernel trick generates features for algorithms that depend only on the inner product between pairs of input points. Any positive definite function $k(\\mathbf{x},\\mathbf{y})$ with $\\mathbf{x},\\mathbf{y}\\in \\mathcal{R}^{d}$ defines an inner product and a lifting $\\phi$ so that the inner product between lifted datapoints can be quickly computed as $\\langle\\phi(\\mathbf{x}),\\phi(\\mathbf{y})\\rangle= k(\\mathbf{x}, \\mathbf{y})$. The cost of this is that the algorithm can only access the data through evaluations of $\\kappa(\\mathbf{x},\\mathbf{y})$ - large data sets incur large computational and storage costs. \n",
    "\n",
    "The paper proposes explicitly mapping the data to a low-dimensional Euclidean inner product space using a randomised feature map $\\mathbf{z} : \\mathcal{R}^{d} \\rightarrow \\mathcal{R}^{D}$ so that the inner product between a pair of transformed points approximates the kernel function.\n",
    "\n",
    "$$k(\\mathbf{x}, \\mathbf{y})=\\langle\\phi(\\mathbf{x}), \\phi(\\mathbf{y})\\rangle \\approx \\mathbf{z}(\\mathbf{x})^{\\prime} \\mathbf{z}(\\mathbf{y}).$$\n",
    "\n",
    "## Random Fourier Features\n",
    "\n",
    "The random features project data points onto a randomly chosen line and then pass the resulting scalar through a sinusoid. The random lines are drawn from a distribution so as to guarantee that the inner product of the two transformed points approximates the desired $\\textbf{shift-invariant}$ kernel. \n",
    "\n",
    "For a properly scaled kernel $\\kappa(\\Delta)$, Bochner's theorem gaurantees that its Fourier transform $p(\\omega)$ is a proper probability distribution. \n",
    "\n",
    "| Kernel Name | $k(\\Delta)$ <img width=100/>| $p(\\omega)$ <img width=100/>|\n",
    "| --- | --- | --- |\n",
    "| Gaussian | $e^{-\\frac{\\|\\Delta\\|_{2}^{2}}{2}}$ | $(2\\pi)^{-\\frac{D}{2}}e^{-\\frac{\\|\\omega\\|_{2}^{2}}{2}}$ |\n",
    "| Laplacian | $e^{-\\|\\Delta\\|_{1}}$ | $\\prod_{d} \\frac{1}{\\pi\\left(1+\\omega_{d}^{2}\\right)}$ |\n",
    "| Cauchy | $\\prod_{d} \\frac{2}{1+\\Delta_{d}^{2}}$ | $e^{-\\|\\Delta\\|_{1}}$ |\n",
    "\n",
    "Defining $\\zeta_{\\omega}(\\mathbf{x})=e^{j \\omega^{\\prime} \\mathbf{x}}$, we have\n",
    "\n",
    "$$k(\\mathbf{x}-\\mathbf{y})=\\int_{\\mathcal{R}^{d}} p(\\omega) e^{j \\omega^{\\prime}(\\mathbf{x}-\\mathbf{y})} d \\omega=\\mathbb{E}_{\\omega}\\left[\\zeta_{\\omega}(\\mathbf{x}) \\zeta_{\\omega}(\\mathbf{y})^{*}\\right]$$\n",
    "\n",
    "so $\\zeta_{\\omega}(\\mathbf{x}) \\zeta_{\\omega}(\\mathbf{y})^{*}$ is an unbiased estimate of $k(\\mathbf{x}, \\mathbf{y})$.\n",
    "\n",
    "To obtain a real-valued random feature for $k$, the integrand of $e^{j \\omega^{\\prime}(\\mathbf{x}-\\mathbf{y})}$ becomes $\\cos \\omega^{\\prime}(x-y)$. Defining $ z_{w}(x)=[\\cos (x) \\sin (x)]^{\\prime}$, which satisfies $E\\left[z_{\\omega}(\\mathbf{x})^{\\prime} z_{\\omega}(\\mathbf{y})\\right] = k(\\mathbf{x}, \\mathbf{y})$ because $ z_{\\omega}(\\mathbf{x})^{\\prime} z_{\\omega}(\\mathbf{y})=\\cos \\omega^{\\prime}(\\mathbf{x}-\\mathbf{y})$. \n",
    "\n",
    "The mapping used here, which also satisfies the condition $E\\left[z_{\\omega}(\\mathbf{x})^{\\prime} z_{\\omega}(\\mathbf{y})\\right]=k(\\mathbf{x}, \\mathbf{y})$ is\n",
    "\n",
    "$$\n",
    "z_{\\omega}(\\mathbf{x})=\\sqrt{2} \\cos \\left(\\omega^{\\prime} \\mathbf{x}+b\\right)\n",
    "$$\n",
    "\n",
    "where $\\omega$ is drawn from $p(\\omega)$ and $b$ is drawn from a unifrom distribution between $[0, 2\\pi]$.\n",
    "\n",
    "The variance of $z_{\\omega}(\\mathbf{x})^{\\prime} z_{\\omega}(\\mathbf{y})$ can be lowered by concatenating $D$ randomly chosen $z_{\\omega}$ into a column vector $\\mathbf{z}$ and normalising each component by $\\sqrt{D}$. The inner product of points featurised by the 2$D$-dimensional random feature $\\mathbf{z}$,  $\\mathbf{z}(\\mathbf{x})^{\\prime} \\mathbf{z}(\\mathbf{y})=\\frac{1}{D} \\sum_{j=1}^{D} z_{\\omega_{j}}(\\mathbf{x}) z_{\\omega_{j}}(\\mathbf{y})$ is a sample average of $z_{\\omega_{j}}(\\mathbf{x}) z_{\\omega_{j}}(\\mathbf{y})$ and is therefore a lower variacne approximation to the expectation.\n",
    "\n",
    "## Algorithm\n",
    "\n",
    "1. Compute the Fourier transform $p$ of the positive definite shift-invariant kernel $k(\\mathbf{x}, \\mathbf{y})=k(\\mathbf{x}-\\mathbf{y})$\n",
    "\n",
    "$$\n",
    "p(\\omega)=\\frac{1}{2 \\pi} \\int e^{-j \\omega^{\\prime} \\Delta} k(\\Delta) d \\Delta\n",
    "$$\n",
    "\n",
    "2. Draw $D$ iid vectors $\\omega_{1}, \\cdots, \\omega_{D} \\in \\mathcal{R}^{d}$ from $p$.\n",
    "\n",
    "3. Draw $D$ iid vectors $b$ from the uniform distribution between $[0, 2\\pi]$.\n",
    "\n",
    "4. Compute the random Fourier features\n",
    "\n",
    "$$\n",
    "\\mathbf{z}(\\mathbf{x}) \\equiv \\sqrt{\\frac{2}{D}}\\left[\\cos \\left(\\omega_{1}^{\\prime} \\mathbf{x}+b_{1}\\right) \\cdots \\cos \\left(\\omega_{D}^{\\prime} \\mathbf{x}+b_{D}\\right) \\sin \\left(\\omega_{1}^{\\prime} \\mathbf{x}+b_{1}\\right) \\cdots \\sin \\left(\\omega_{D}^{\\prime} \\mathbf{x}+b_{D}\\right)\\right]^{\\prime}\n",
    "$$\n",
    "\n",
    "5. Compute the kernel estimates\n",
    "\n",
    "$$\n",
    "k(\\mathbf{x}, \\mathbf{y}) \\approx \\mathbf{z}(\\mathbf{x})^{\\prime} \\mathbf{z}(\\mathbf{y})\n",
    "$$"
   ]
  },
  {
   "cell_type": "code",
   "execution_count": 163,
   "metadata": {
    "nbpresent": {
     "id": "b66d58ec-6507-4f22-83ef-787dc422cd7d"
    },
    "scrolled": false
   },
   "outputs": [],
   "source": [
    "from sklearn.base import BaseEstimator\n",
    "from sklearn.exceptions import NotFittedError\n",
    "from sklearn.utils.extmath import safe_sparse_dot\n",
    "\n",
    "# Random Fourier features class\n",
    "class KernelRFF(BaseEstimator):\n",
    "    \"\"\"\n",
    "    Approximates the feature map of a kernel by Monte Carlo approximation of \n",
    "    it's Fourier transform. Implements random Fourier features [1].\n",
    "        \n",
    "    Parameters\n",
    "    ----------\n",
    "    gamma : float\n",
    "        Parameter of the Gaussian kernel exp(-gamma * w^2)\n",
    "        \n",
    "    D : int\n",
    "        Number of Monte Carlo samples per feature\n",
    "    \n",
    "    [1] Rahimi, A., & Recht, B. (2008). Random features for large-scale kernel machines. \n",
    "        In Advances in neural information processing systems (pp. 1177-1184)\n",
    "    \"\"\"\n",
    "    \n",
    "    def __init__(self, gamma=1, D=50):\n",
    "        self.gamma = gamma\n",
    "        self.D = D # num MC samples\n",
    "        self.is_fitted = False \n",
    "    \n",
    "    def fit(self, X):\n",
    "        \"\"\"\n",
    "        Draws D samples for direction w and random offset b\n",
    "        \n",
    "        X : Data {array, matrix}, shape (n_samples, n_dimension) \n",
    "        \n",
    "        Returns\n",
    "        -------\n",
    "        self : object\n",
    "            Returns the direction vector w, the offset b and the boolean\n",
    "            fitted.\n",
    "        \"\"\"\n",
    "        \n",
    "        dimension = X.shape[1] # dimension of the data\n",
    "        self.w_direction = np.sqrt(2 * self.gamma) * \\\n",
    "                            np.random.normal(size=(self.D, dimension))\n",
    "        self.b_offset = np.random.uniform(0, 2*np.pi, size=(1, self.D))\n",
    "        self.is_fitted = True\n",
    "        \n",
    "        return self\n",
    "    \n",
    "    def _transform(self, X):\n",
    "        \"\"\"\n",
    "        Apply the approximate feature map to X.\n",
    "        \n",
    "        Parameters\n",
    "        ----------\n",
    "        X : Data {array, matrix}, shape (n_samples, n_features)\n",
    "        \n",
    "        Returns\n",
    "        -------\n",
    "        Z : array of transformed features, shape (n_samples, n_components [D])\n",
    "        \"\"\"\n",
    "        Xw = X.dot(self.w_direction.T)\n",
    "        Z = np.sqrt(2 / self.D) * np.cos(Xw + self.b_offset)\n",
    "        \n",
    "        return Z\n",
    "    \n",
    "    def compute_kernel(self, X, Y=None):\n",
    "        \"\"\"\n",
    "        Computes the kernel gram matrix using the transformed Fourier features\n",
    "        \n",
    "        Parameters\n",
    "        ----------\n",
    "        X : Data {array, matrix}, shape (n_samples, n_features)\n",
    "        \n",
    "        Y : Data {array, matrix}, shape (n_samples, n_features)\n",
    "        \n",
    "        Returns\n",
    "        -------\n",
    "        K : gram matrix (n_samples, n_samples)\n",
    "        \"\"\"\n",
    "        Zx = self._transform(X)\n",
    "        \n",
    "        if Y is not None:\n",
    "            Zy = self._transform(Y)\n",
    "            K = Zx.dot(Zy.T)\n",
    "        else:\n",
    "            K = Zx.dot(Zx.T)\n",
    "        \n",
    "        return K\n",
    "        "
   ]
  },
  {
   "cell_type": "code",
   "execution_count": 169,
   "metadata": {},
   "outputs": [],
   "source": [
    "from sklearn.metrics.pairwise import rbf_kernel\n",
    "\n",
    "# make some data\n",
    "num_samples, dim = 1000, 50\n",
    "X = np.random.randn(num_samples, dim)\n",
    "Y = np.random.randn(num_samples, dim)\n",
    "\n",
    "# RBF kernel for performance comparison\n",
    "K_rbf = rbf_kernel(X, Y, gamma=1)\n",
    "errors = []\n",
    "\n",
    "# check for a different numbers of MC samples\n",
    "Ds = np.arange(1,10000,200)\n",
    "for D in Ds:\n",
    "    gaussRFF = KernelRFF(gamma=1, D=D)\n",
    "    gaussRFF.fit(X)\n",
    "    K_rff = gaussRFF.compute_kernel(X, Y)\n",
    "    errors.append(((K_rbf - K_rff)**2).mean())"
   ]
  },
  {
   "cell_type": "code",
   "execution_count": 170,
   "metadata": {},
   "outputs": [
    {
     "data": {
      "image/png": "[encoded data removed]",
      "text/plain": [
       "<Figure size 432x288 with 1 Axes>"
      ]
     },
     "metadata": {
      "needs_background": "light"
     },
     "output_type": "display_data"
    }
   ],
   "source": [
    "plt.figure(1)\n",
    "plt.plot(Ds, errors)\n",
    "plt.grid()\n",
    "plt.ylabel(\"MSE\")\n",
    "plt.xlabel(\"Number of MC samples, D\")\n",
    "plt.yscale(\"log\")\n",
    "plt.autoscale(enable=True, axis='x', tight=True)"
   ]
  },
  {
   "cell_type": "code",
   "execution_count": null,
   "metadata": {},
   "outputs": [],
   "source": []
  }
 ],
 "metadata": {
  "kernelspec": {
   "display_name": "Python (machine_learning)",
   "language": "python",
   "name": "machine_learning"
  },
  "language_info": {
   "codemirror_mode": {
    "name": "ipython",
    "version": 3
   },
   "file_extension": ".py",
   "mimetype": "text/x-python",
   "name": "python",
   "nbconvert_exporter": "python",
   "pygments_lexer": "ipython3",
   "version": "3.6.8"
  }
 },
 "nbformat": 4,
 "nbformat_minor": 2
}
